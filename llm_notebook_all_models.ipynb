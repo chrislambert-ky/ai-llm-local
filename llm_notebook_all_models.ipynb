{
 "cells": [
  {
   "cell_type": "code",
   "execution_count": 7,
   "metadata": {},
   "outputs": [],
   "source": [
    "#Import Depenedencies\n",
    "import ollama"
   ]
  },
  {
   "cell_type": "markdown",
   "metadata": {},
   "source": [
    "This version will simply ask you for a prompt and then run that prompt through the following LLMs."
   ]
  },
  {
   "cell_type": "markdown",
   "metadata": {},
   "source": [
    "1) mistral (from Mistral AI, an open source model)\n",
    "2) gemma (from Google)\n",
    "3) phi3 (from Microsoft)\n",
    "4) llama3 (from Meta / Facebook)"
   ]
  },
  {
   "cell_type": "markdown",
   "metadata": {},
   "source": [
    "Now please enter your prompt:\n",
    "\n",
    "---"
   ]
  },
  {
   "cell_type": "code",
   "execution_count": 8,
   "metadata": {},
   "outputs": [
    {
     "name": "stdout",
     "output_type": "stream",
     "text": [
      "Your prompt was: Do you have an advice on learning about AI?\n"
     ]
    }
   ],
   "source": [
    "#User Prompt\n",
    "user_prompt_input = input(\"Enter your prompt: \")\n",
    "print(\"Your prompt was:\", user_prompt_input)"
   ]
  },
  {
   "cell_type": "markdown",
   "metadata": {},
   "source": [
    "Mistral (Mistral AI)"
   ]
  },
  {
   "cell_type": "code",
   "execution_count": 9,
   "metadata": {},
   "outputs": [
    {
     "name": "stdout",
     "output_type": "stream",
     "text": [
      " Absolutely! Here's a step-by-step guide to help you get started with learning about Artificial Intelligence (AI):\n",
      "\n",
      "1. **Understand the Basics**: Start by understanding what AI is, its types (Supervised Learning, Unsupervised Learning, Reinforcement Learning, and Deep Learning), and its applications. A good book to start with is \"Artificial Intelligence: A Modern Approach\" by Stuart Russell and Peter Norvig.\n",
      "\n",
      "2. **Mathematics**: AI relies heavily on mathematics, particularly linear algebra, calculus, statistics, and probability theory. Brush up on these subjects or learn them from scratch if necessary.\n",
      "\n",
      "3. **Programming Skills**: Python is the most popular programming language in AI. Learn Python and its libraries like NumPy, Pandas, Matplotlib, Scikit-learn, and TensorFlow/Keras for deep learning.\n",
      "\n",
      "4. **Data Preprocessing**: Cleaning and preprocessing data is a crucial step in any machine learning or AI project. Familiarize yourself with data manipulation tools like pandas.\n",
      "\n",
      "5. **Machine Learning Algorithms**: Start with simple algorithms like linear regression, logistic regression, decision trees, random forests, k-nearest neighbors, and support vector machines (SVM). Then move on to more complex ones like neural networks.\n",
      "\n",
      "6. **Deep Learning**: Deep learning is a subset of machine learning focused on artificial neural networks with representation learning. Deeplearning.ai by Andrew Ng offers free courses on deep learning.\n",
      "\n",
      "7. **Projects**: Apply what you've learned by working on projects. Kaggle is a popular platform for competitive AI and machine learning competitions.\n",
      "\n",
      "8. **Stay Updated**: AI is a rapidly evolving field. Follow AI researchers, read AI-related publications like arXiv, and attend AI conferences to stay updated.\n",
      "\n",
      "9. **Online Courses**: There are many online platforms offering courses in AI and machine learning such as Coursera, edX, Udemy, and Deeplearning.ai.\n",
      "\n",
      "10. **Networking**: Connect with other AI enthusiasts and professionals. Join forums, attend meetups, and collaborate on projects to learn from others' experiences."
     ]
    }
   ],
   "source": [
    "#Mistral Model\n",
    "stream = ollama.chat(model='mistral', messages=[{'role': 'user', 'content': user_prompt_input}], stream=True)\n",
    "message = ''\n",
    "for chunk in stream:\n",
    "    print(chunk['message']['content'], end='', flush=True)"
   ]
  },
  {
   "cell_type": "markdown",
   "metadata": {},
   "source": [
    "Gemma (Google)"
   ]
  },
  {
   "cell_type": "code",
   "execution_count": 10,
   "metadata": {},
   "outputs": [
    {
     "name": "stdout",
     "output_type": "stream",
     "text": [
      "**1. Online Courses and Tutorials:**\n",
      "\n",
      "* Coursera: Machine Learning, Deep Learning Specialization\n",
      "* edX: AI for Beginners, TensorFlow for Machine Learning\n",
      "* Stanford University: Machine Learning Course\n",
      "* Google AI: Machine Learning & Deep Learning for Beginners\n",
      "\n",
      "**2. Books and Articles:**\n",
      "\n",
      "* \"Artificial Intelligence: A Modern Approach\" by Stuart Russell and Peter Norvig\n",
      "* \"The Master Algorithm\" by Pedro Domingos\n",
      "* \"Deep Learning\" by Ian Goodfellow, Yoshua Bengio, and Aaron Courville\n",
      "* TechCrunch, The Verge, and AI Now Institute for industry news and articles.\n",
      "\n",
      "\n",
      "**3. Online Platforms and Tools:**\n",
      "\n",
      "* TensorFlow: Open-source machine learning library\n",
      "* PyTorch: Another popular machine learning library\n",
      "* Jupyter Notebook: Interactive data analysis and machine learning environment\n",
      "* Google Cloud AI: Cloud-based machine learning platform\n",
      "\n",
      "\n",
      "**4. Tutorials and Workshops:**\n",
      "\n",
      "* Attend local AI meetups and workshops\n",
      "* Participate in online tutorials and workshops hosted by organizations like Google, TensorFlow, and PyTorch\n",
      "* Consider taking a bootcamp or intensive AI program\n",
      "\n",
      "\n",
      "**5. Hands-on Experience:**\n",
      "\n",
      "* Start with simple AI concepts like linear regression and classification\n",
      "* Experiment with machine learning algorithms on different datasets\n",
      "* Build your own simple AI project, such as a chatbot or image recognition app\n",
      "\n",
      "\n",
      "**6. Stay Updated:**\n",
      "\n",
      "* Follow industry leaders and researchers on social media\n",
      "* Subscribe to relevant newsletters and blogs\n",
      "* Attend conferences and workshops to stay current with the latest advancements in AI\n",
      "\n",
      "\n",
      "**7. Engage with the Community:**\n",
      "\n",
      "* Join online forums and discussions\n",
      "* Engage in discussions on AI ethics and implications\n",
      "* Connect with professionals in the field for mentorship and guidance\n",
      "\n",
      "\n",
      "**8. Experiment and Iterate:**\n",
      "\n",
      "* Try different algorithms and techniques\n",
      "* Experiment with different datasets and parameters\n",
      "* Analyze and improve your models over time"
     ]
    }
   ],
   "source": [
    "#Gemma Model\n",
    "stream = ollama.chat(model='gemma', messages=[{'role': 'user', 'content': user_prompt_input}], stream=True)\n",
    "message = ''\n",
    "for chunk in stream:\n",
    "    print(chunk['message']['content'], end='', flush=True)"
   ]
  },
  {
   "cell_type": "markdown",
   "metadata": {},
   "source": [
    "Phi3 (Microsoft)"
   ]
  },
  {
   "cell_type": "code",
   "execution_count": 11,
   "metadata": {},
   "outputs": [
    {
     "name": "stdout",
     "output_type": "stream",
     "text": [
      " Absolutely! Here's a step-by-step guide to help you start your journey in understanding and learning more about artificial intelligence (AI):\n",
      "\n",
      "1. Define your goals: Determine what areas of AI interest you the most, such as natural language processing, computer vision, robotics, or machine learning algorithms. This will help narrow down your focus when starting out.\n",
      "2. Learn the basics: Start with introductory materials to gain a foundational understanding of AI concepts. Some recommended resources include:\n",
      "   - \"Artificial Intelligence: A Modern Approach\" by Stuart Russell and Peter Norvig\n",
      "   - The MIT OpenCourseWare course on Introduction to Artificial Intelligence (https://ocw.mit.edu/courses/electrical-engineering-and-computer-science/#ai)\n",
      "3. Study math fundamentals: A solid understanding of linear algebra, calculus, and probability will be essential in comprehending complex algorithms used in AI applications. Khan Academy (https://www.khanacademy.org/) is an excellent free resource to help you grasp these concepts.\n",
      "4. Learn programming languages: Python is widely regarded as the most popular language for data science, machine learning, and AI development due to its simplicity and vast library support. Start with the basics by studying online resources like Codecademy (https://www.codecademy.com/) or Udacity's \"Introduction to Python Bootcamp\" course.\n",
      "5. Explore libraries and tools: Familiarize yourself with popular AI-related libraries and frameworks, such as TensorFlow, PyTorch, Keras, Scikit-learn, and OpenCV. These will enable you to develop your own projects and understand the inner workings of various AI applications.\n",
      "6. Participate in online communities: Join forums like Stack Overflow, Reddit's r/MachineLearning, or Discord servers dedicated to learning about AI. Engaging with others can help clarify doubts, expose you to new resources and projects, and foster a deeper understanding of the field.\n",
      "7. Work on small projects: Apply your knowledge by creating simple programs that incorporate machine learning algorithms like linear regression, decision trees, or k-nearest neighbors. This will solidify your understanding of AI concepts while allowing you to practice coding in Python and using libraries.\n",
      "8. Read research papers: To stay updated with the latest advancements in the field, read scholarly articles from reputable sources like arXiv (https://arxiv.inas-aiml.github.io/) or Google Scholar (https://scholar.google.com/). Some key journals to follow include the Journal of Artificial Intelligence Research and Neural Networks.\n",
      "9. Take online courses: There are numerous free online courses that cater specifically to AI learners, such as Coursera's \"Machine Learning\" by Andrew Ng or edX's \"AI for Everyone\" course. These can provide a structured approach in understanding and applying different concepts of AI.\n",
      "10. Build on your knowledge: As you progress through the learning process, continually challenge yourself with more advanced topics such as deep neural networks, reinforcement learning, or natural language processing tasks. Keep an eye out for online tutorials, webinars, workshops, and conferences to expand your understanding of AI further.\n",
      "\n",
      "Remember that learning about AI is a continuous journey! Take your time, stay curious, and enjoy the process of exploring this fascinating field. Good luck!"
     ]
    }
   ],
   "source": [
    "#Phi3 Model\n",
    "stream = ollama.chat(model='phi3', messages=[{'role': 'user', 'content': user_prompt_input}], stream=True)\n",
    "message = ''\n",
    "for chunk in stream:\n",
    "    print(chunk['message']['content'], end='', flush=True)"
   ]
  },
  {
   "cell_type": "markdown",
   "metadata": {},
   "source": [
    "Llama3 (Meta)"
   ]
  },
  {
   "cell_type": "code",
   "execution_count": 12,
   "metadata": {},
   "outputs": [
    {
     "name": "stdout",
     "output_type": "stream",
     "text": [
      "Learning about Artificial Intelligence (AI) can be a fascinating and rewarding journey. Here are some tips to help you get started:\n",
      "\n",
      "1. **Start with the basics**: Understand the fundamental concepts of computer science, mathematics, and statistics. This will provide a solid foundation for learning AI.\n",
      "2. **Get familiar with programming**: Python is a popular language used in AI, so start by learning Python. You can use online resources like Codecademy, Coursera, or edX to learn programming.\n",
      "3. **Explore AI frameworks and libraries**: Familiarize yourself with popular AI frameworks and libraries such as TensorFlow, Keras, PyTorch, OpenCV, and scikit-learn. These tools will help you implement AI algorithms and build projects.\n",
      "4. **Learn from online courses and tutorials**: Websites like Coursera, edX, Udemy, and Stanford Online offer a wide range of AI-related courses. You can also find tutorials on YouTube, GitHub, and blogs.\n",
      "5. **Read books and research papers**: There are many excellent books on AI that provide in-depth knowledge. Some popular ones include \"Deep Learning\" by Ian Goodfellow, Yoshua Bengio, and Aaron Courville, and \"Artificial Intelligence: A Modern Approach\" by Stuart Russell and Peter Norvig.\n",
      "6. **Participate in Kaggle competitions**: Kaggle is a platform where you can participate in AI-related competitions and learn from others. This will help you apply your knowledge to real-world problems.\n",
      "7. **Join online communities**: Participate in online forums like Reddit's r/MachineLearning and r/AI, Stack Overflow, and GitHub to connect with other AI enthusiasts and learn from their experiences.\n",
      "8. **Work on projects**: Implement AI algorithms and build projects using the skills you've learned. This will help you understand the practical applications of AI and identify areas where you need more knowledge.\n",
      "9. **Stay updated**: AI is a rapidly evolving field, so stay informed about the latest developments by following industry leaders, researchers, and bloggers.\n",
      "10. **Be patient and persistent**: Learning AI takes time and effort. Don't get discouraged if you encounter difficulties or feel overwhelmed at times.\n",
      "\n",
      "Some recommended resources to get started:\n",
      "\n",
      "* Andrew Ng's Machine Learning course on Coursera\n",
      "* Stanford University's Natural Language Processing with Deep Learning Specialization on Coursera\n",
      "* Python for Data Analysis by Wes McKinney (book)\n",
      "* TensorFlow tutorials and documentation\n",
      "* Kaggle's Getting Started with AI guide\n",
      "\n",
      "Remember, learning AI is a continuous process. Stay curious, keep practicing, and you'll be well on your way to becoming proficient in AI!"
     ]
    }
   ],
   "source": [
    "#Llama3 Model\n",
    "stream = ollama.chat(model='llama3', messages=[{'role': 'user', 'content': user_prompt_input}], stream=True)\n",
    "message = ''\n",
    "for chunk in stream:\n",
    "    print(chunk['message']['content'], end='', flush=True)"
   ]
  }
 ],
 "metadata": {
  "kernelspec": {
   "display_name": ".venv",
   "language": "python",
   "name": "python3"
  },
  "language_info": {
   "codemirror_mode": {
    "name": "ipython",
    "version": 3
   },
   "file_extension": ".py",
   "mimetype": "text/x-python",
   "name": "python",
   "nbconvert_exporter": "python",
   "pygments_lexer": "ipython3",
   "version": "3.12.5"
  }
 },
 "nbformat": 4,
 "nbformat_minor": 2
}
