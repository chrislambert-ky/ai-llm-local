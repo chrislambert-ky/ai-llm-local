{
 "cells": [
  {
   "cell_type": "code",
   "execution_count": 1,
   "metadata": {},
   "outputs": [],
   "source": [
    "#Import Depenedencies\n",
    "import ollama"
   ]
  },
  {
   "cell_type": "markdown",
   "metadata": {},
   "source": [
    "You will need to choose the model that you want to interact with by choosing the model number.<br>\n",
    "1) mistral (from Mistral AI, an open source model)\n",
    "2) gemma (from Google)\n",
    "3) phi3 (from Microsoft)\n",
    "4) llama3 (from Meta / Facebook)"
   ]
  },
  {
   "cell_type": "code",
   "execution_count": 2,
   "metadata": {},
   "outputs": [
    {
     "name": "stdout",
     "output_type": "stream",
     "text": [
      "You chose mistral\n"
     ]
    }
   ],
   "source": [
    "#Select a Model\n",
    "models = ['mistral', 'gemma', 'phi3', 'llama3']\n",
    "model_number = input(\"Please enter the number of the model you would like to interact with: \")\n",
    "\n",
    "if model_number.isdigit() and 1 <= int(model_number) <= 6:\n",
    "    selected_model = models[int(model_number) - 1]  # remember to subtract 1. lists start with zero\n",
    "    print(\"You chose\", selected_model)\n",
    "else:\n",
    "    print(\"Invalid input. Please enter a number between 1 and 4.\")"
   ]
  },
  {
   "cell_type": "markdown",
   "metadata": {},
   "source": [
    "Please enter your prompt:\n",
    "\n",
    "---"
   ]
  },
  {
   "cell_type": "code",
   "execution_count": 3,
   "metadata": {},
   "outputs": [
    {
     "name": "stdout",
     "output_type": "stream",
     "text": [
      "Your prompt was: I want to learn more about Python.  Do you have any advice?\n",
      " Absolutely! Here are some steps to help you get started with learning Python:\n",
      "\n",
      "1. **Understand the Basics**: Start by understanding what Python is and why it's used. Python is a high-level, interpreted programming language known for its simplicity and readability. It's widely used in web development, data analysis, artificial intelligence, machine learning, and more.\n",
      "\n",
      "2. **Install Python**: You can download the latest version of Python from the official website: https://www.python.org/downloads/. After installation, you should be able to run Python commands in your command prompt or terminal.\n",
      "\n",
      "3. **Python Tutorials**: There are many online resources available for learning Python. Some popular ones include Codecademy, Coursera, edX, and W3Schools. These platforms offer interactive tutorials that guide you through the basics of Python programming.\n",
      "\n",
      "4. **Python Documentation**: The official Python documentation is a comprehensive resource that covers everything from basic syntax to advanced topics. You can find it here: https://docs.python.org/3/\n",
      "\n",
      "5. **Coding Practice**: Practice is key when learning any programming language. Websites like LeetCode, HackerRank, and CodeSignal offer problems that you can solve using Python. This will help you understand how to apply what you've learned in real-world scenarios.\n",
      "\n",
      "6. **Projects**: Once you're comfortable with the basics, start working on small projects. This could be anything from a simple calculator, a to-do list app, or a data analysis script. This will give you practical experience and help reinforce what you've learned.\n",
      "\n",
      "7. **Community**: Join Python communities both online and offline. Websites like Stack Overflow and Reddit have active Python communities where you can ask questions, share your work, and learn from others.\n",
      "\n",
      "8. **Books**: If you prefer learning from books, some good ones for beginners include \"Python Crash Course\" by Eric Matthes and \"Automate the Boring Stuff with Python\" by Al Sweigart.\n",
      "\n",
      "9. **Advanced Topics**: Once you're comfortable with the basics, explore more advanced topics like data structures (lists, dictionaries, sets), functions, classes, modules, exceptions, file handling, and more. You can also learn about Python libraries like NumPy, Pandas, Matplotlib, Django, Flask, and more.\n",
      "\n",
      "10. **Contribute to Open Source Projects**: This is a great way to gain real-world experience and make a positive impact in the programming community. Websites like GitHub have many open source Python projects where you can contribute."
     ]
    }
   ],
   "source": [
    "#User Prompt\n",
    "user_prompt_input = input(\"Please enter something: \")\n",
    "print(\"Your prompt was:\", user_prompt_input)\n",
    "\n",
    "#Streaming Response\n",
    "stream = ollama.chat(model=selected_model, messages=[{'role': 'user', 'content': user_prompt_input}], stream=True)\n",
    "for chunk in stream:\n",
    "    print(chunk['message']['content'], end='', flush=True)"
   ]
  }
 ],
 "metadata": {
  "kernelspec": {
   "display_name": ".venv",
   "language": "python",
   "name": "python3"
  },
  "language_info": {
   "codemirror_mode": {
    "name": "ipython",
    "version": 3
   },
   "file_extension": ".py",
   "mimetype": "text/x-python",
   "name": "python",
   "nbconvert_exporter": "python",
   "pygments_lexer": "ipython3",
   "version": "3.12.3"
  }
 },
 "nbformat": 4,
 "nbformat_minor": 2
}
